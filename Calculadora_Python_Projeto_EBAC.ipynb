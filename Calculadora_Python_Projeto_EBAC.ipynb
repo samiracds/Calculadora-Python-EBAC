{
  "nbformat": 4,
  "nbformat_minor": 0,
  "metadata": {
    "colab": {
      "provenance": []
    },
    "kernelspec": {
      "name": "python3",
      "display_name": "Python 3"
    },
    "language_info": {
      "name": "python"
    }
  },
  "cells": [
    {
      "cell_type": "code",
      "execution_count": null,
      "metadata": {
        "colab": {
          "base_uri": "https://localhost:8080/"
        },
        "id": "GKCJl6gMecRP",
        "outputId": "bb3bda4c-54b3-4e33-c3bd-91992ffa9360"
      },
      "outputs": [
        {
          "output_type": "stream",
          "name": "stdout",
          "text": [
            "Selecione a operação:\n",
            "+\n",
            "-\n",
            "*\n",
            "/\n"
          ]
        }
      ],
      "source": [
        "def add(x, y):\n",
        "    return x + y\n",
        "\n",
        "def subtract(x, y):\n",
        "    return x - y\n",
        "\n",
        "def multiply(x, y):\n",
        "    return x * y\n",
        "\n",
        "def divide(x, y):\n",
        "    if y != 0:\n",
        "        return x / y\n",
        "    else:\n",
        "        return \"Erro: Divisão por zero!\"\n",
        "\n",
        "def calculator():\n",
        "    print(\"Selecione a operação:\")\n",
        "    print(\"+\")\n",
        "    print(\"-\")\n",
        "    print(\"*\")\n",
        "    print(\"/\")\n",
        "\n",
        "    choice = input(\"Digite a opção (+ - * /): \")\n",
        "\n",
        "    if choice in ['+', '-', '*', '/']:\n",
        "        num1 = float(input(\"Digite o primeiro número: \"))\n",
        "        num2 = float(input(\"Digite o segundo número: \"))\n",
        "\n",
        "        if choice == '+':\n",
        "            print(f\"{num1} + {num2} = {add(num1, num2)}\")\n",
        "        elif choice == '-':\n",
        "            print(f\"{num1} - {num2} = {subtract(num1, num2)}\")\n",
        "        elif choice == '*':\n",
        "            print(f\"{num1} * {num2} = {multiply(num1, num2)}\")\n",
        "        elif choice == '/':\n",
        "            print(f\"{num1} / {num2} = {divide(num1, num2)}\")\n",
        "    else:\n",
        "        print(\"Opção inválida!\")\n",
        "\n",
        "# Executar a calculadora\n",
        "calculator()"
      ]
    }
  ]
}